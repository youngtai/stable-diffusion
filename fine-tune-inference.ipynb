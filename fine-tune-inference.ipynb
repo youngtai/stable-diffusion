{
 "cells": [
  {
   "cell_type": "code",
   "execution_count": 32,
   "id": "b2ce3440-988a-4217-a01b-2229e2375d5e",
   "metadata": {
    "tags": []
   },
   "outputs": [],
   "source": [
    "ckpt_paths = [\n",
    "    '/home/ubuntu/sd-v1-4-full-ema.ckpt',\n",
    "    'logs/2022-11-20T23-32-53_art/checkpoints/epoch=000071.ckpt',\n",
    "    'logs/2022-11-20T23-32-53_art/checkpoints/epoch=000142.ckpt',\n",
    "    'logs/2022-11-20T23-32-53_art/checkpoints/epoch=000214.ckpt',\n",
    "    'logs/2022-11-20T23-32-53_art/checkpoints/epoch=000285.ckpt',\n",
    "    'logs/2022-11-20T23-32-53_art/checkpoints/epoch=000357.ckpt',\n",
    "    # 'logs/2022-11-20T23-32-53_art/checkpoints/last.ckpt' # seems identical to 357\n",
    "]\n",
    "prompt_text = 'illustration of a magical black tortoise hellotjbae'\n",
    "\n",
    "\n",
    "def run_inference(prompt_text, ckpt_path):\n",
    "    !(python scripts/txt2img.py \\\n",
    "        --prompt \"$prompt_text\" \\\n",
    "        --outdir \"outputs/$prompt_text\" \\\n",
    "        --H 512 --W 512 \\\n",
    "        --n_samples 4 \\\n",
    "        --config 'configs/stable-diffusion/art.yaml' \\\n",
    "        --ckpt \"$ckpt_path\")\n",
    "    \n",
    "\n",
    "def run_inference_on_all_ckpts(prompt_text, ckpt_paths):\n",
    "    for ckpt_path in ckpt_paths:\n",
    "        run_inference(prompt_text, ckpt_path)"
   ]
  },
  {
   "cell_type": "code",
   "execution_count": null,
   "id": "c8bf77e9-9a2e-4f01-b404-b37e841cec81",
   "metadata": {},
   "outputs": [],
   "source": [
    "run_inference_on_all_ckpts(prompt_text, ckpt_paths)"
   ]
  },
  {
   "cell_type": "code",
   "execution_count": null,
   "id": "451f92f4-9f62-468d-9e94-87c56aeccc34",
   "metadata": {},
   "outputs": [],
   "source": []
  }
 ],
 "metadata": {
  "kernelspec": {
   "display_name": "stable-diffusion-kernel",
   "language": "python",
   "name": "stable-diffusion-kernel"
  },
  "language_info": {
   "codemirror_mode": {
    "name": "ipython",
    "version": 3
   },
   "file_extension": ".py",
   "mimetype": "text/x-python",
   "name": "python",
   "nbconvert_exporter": "python",
   "pygments_lexer": "ipython3",
   "version": "3.10.6"
  }
 },
 "nbformat": 4,
 "nbformat_minor": 5
}
